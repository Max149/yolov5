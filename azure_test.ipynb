{
 "cells": [
  {
   "cell_type": "code",
   "execution_count": 1,
   "metadata": {},
   "outputs": [
    {
     "ename": "UserErrorException",
     "evalue": "UserErrorException:\n\tMessage: The workspace configuration file config.json, could not be found in c:\\Users\\MaxF�rsntr�m-AI23GBG\\LIA_2_blueprint_auto\\Auto-Blueprints or its parent directories. Please check whether the workspace configuration file exists, or provide the full path to the configuration file as an argument. You can download a configuration file for your workspace, via http://ml.azure.com and clicking on the name of your workspace in the right top.\n\tInnerException None\n\tErrorResponse \n{\n    \"error\": {\n        \"code\": \"UserError\",\n        \"message\": \"The workspace configuration file config.json, could not be found in c:\\\\Users\\\\MaxF\\ufffdrsntr\\ufffdm-AI23GBG\\\\LIA_2_blueprint_auto\\\\Auto-Blueprints or its parent directories. Please check whether the workspace configuration file exists, or provide the full path to the configuration file as an argument. You can download a configuration file for your workspace, via http://ml.azure.com and clicking on the name of your workspace in the right top.\"\n    }\n}",
     "output_type": "error",
     "traceback": [
      "\u001b[1;31m---------------------------------------------------------------------------\u001b[0m",
      "\u001b[1;31mUserErrorException\u001b[0m                        Traceback (most recent call last)",
      "Cell \u001b[1;32mIn[1], line 4\u001b[0m\n\u001b[0;32m      1\u001b[0m \u001b[38;5;28;01mfrom\u001b[39;00m\u001b[38;5;250m \u001b[39m\u001b[38;5;21;01mazureml\u001b[39;00m\u001b[38;5;21;01m.\u001b[39;00m\u001b[38;5;21;01mcore\u001b[39;00m\u001b[38;5;250m \u001b[39m\u001b[38;5;28;01mimport\u001b[39;00m Workspace, ComputeTarget\n\u001b[0;32m      3\u001b[0m \u001b[38;5;66;03m# Connect to Azure ML Workspace\u001b[39;00m\n\u001b[1;32m----> 4\u001b[0m ws \u001b[38;5;241m=\u001b[39m \u001b[43mWorkspace\u001b[49m\u001b[38;5;241;43m.\u001b[39;49m\u001b[43mfrom_config\u001b[49m\u001b[43m(\u001b[49m\u001b[43m)\u001b[49m\n\u001b[0;32m      6\u001b[0m \u001b[38;5;66;03m# Attach to the shared Compute Cluster\u001b[39;00m\n\u001b[0;32m      7\u001b[0m compute_name \u001b[38;5;241m=\u001b[39m \u001b[38;5;124m\"\u001b[39m\u001b[38;5;124mmodel-training\u001b[39m\u001b[38;5;124m\"\u001b[39m  \u001b[38;5;66;03m# Change this to match your cluster\u001b[39;00m\n",
      "File \u001b[1;32mc:\\Users\\MaxF�rsntr�m-AI23GBG\\LIA_2_blueprint_auto\\Auto-Blueprints\\.venv\\Lib\\site-packages\\azureml\\core\\workspace.py:280\u001b[0m, in \u001b[0;36mWorkspace.from_config\u001b[1;34m(path, auth, _logger, _file_name)\u001b[0m\n\u001b[0;32m    277\u001b[0m             \u001b[38;5;28;01mbreak\u001b[39;00m\n\u001b[0;32m    279\u001b[0m     \u001b[38;5;28;01mif\u001b[39;00m \u001b[38;5;129;01mnot\u001b[39;00m found_path:\n\u001b[1;32m--> 280\u001b[0m         \u001b[38;5;28;01mraise\u001b[39;00m UserErrorException(\n\u001b[0;32m    281\u001b[0m             \u001b[38;5;124m\"\u001b[39m\u001b[38;5;124mThe workspace configuration file config.json, could not be found in \u001b[39m\u001b[38;5;132;01m{}\u001b[39;00m\u001b[38;5;124m or its parent \u001b[39m\u001b[38;5;124m\"\u001b[39m\n\u001b[0;32m    282\u001b[0m             \u001b[38;5;124m\"\u001b[39m\u001b[38;5;124mdirectories. Please check whether the workspace configuration file exists, or provide \u001b[39m\u001b[38;5;124m\"\u001b[39m\n\u001b[0;32m    283\u001b[0m             \u001b[38;5;124m\"\u001b[39m\u001b[38;5;124mthe full path to the configuration file as an argument. You can download a configuration \u001b[39m\u001b[38;5;124m\"\u001b[39m\n\u001b[0;32m    284\u001b[0m             \u001b[38;5;124m\"\u001b[39m\u001b[38;5;124mfile for your workspace, via http://ml.azure.com and clicking on the name of your \u001b[39m\u001b[38;5;124m\"\u001b[39m\n\u001b[0;32m    285\u001b[0m             \u001b[38;5;124m\"\u001b[39m\u001b[38;5;124mworkspace in the right top.\u001b[39m\u001b[38;5;124m\"\u001b[39m\u001b[38;5;241m.\u001b[39mformat(\n\u001b[0;32m    286\u001b[0m                 normalized_path))\n\u001b[0;32m    288\u001b[0m subscription_id, resource_group, workspace_name \u001b[38;5;241m=\u001b[39m project_info\u001b[38;5;241m.\u001b[39mget_workspace_info(\n\u001b[0;32m    289\u001b[0m     found_path)\n\u001b[0;32m    291\u001b[0m _logger\u001b[38;5;241m.\u001b[39minfo(\u001b[38;5;124m'\u001b[39m\u001b[38;5;124mFound the config file in: \u001b[39m\u001b[38;5;132;01m%s\u001b[39;00m\u001b[38;5;124m'\u001b[39m, found_path)\n",
      "\u001b[1;31mUserErrorException\u001b[0m: UserErrorException:\n\tMessage: The workspace configuration file config.json, could not be found in c:\\Users\\MaxF�rsntr�m-AI23GBG\\LIA_2_blueprint_auto\\Auto-Blueprints or its parent directories. Please check whether the workspace configuration file exists, or provide the full path to the configuration file as an argument. You can download a configuration file for your workspace, via http://ml.azure.com and clicking on the name of your workspace in the right top.\n\tInnerException None\n\tErrorResponse \n{\n    \"error\": {\n        \"code\": \"UserError\",\n        \"message\": \"The workspace configuration file config.json, could not be found in c:\\\\Users\\\\MaxF\\ufffdrsntr\\ufffdm-AI23GBG\\\\LIA_2_blueprint_auto\\\\Auto-Blueprints or its parent directories. Please check whether the workspace configuration file exists, or provide the full path to the configuration file as an argument. You can download a configuration file for your workspace, via http://ml.azure.com and clicking on the name of your workspace in the right top.\"\n    }\n}"
     ]
    }
   ],
   "source": [
    "from azureml.core import Workspace, ComputeTarget\n",
    " \n",
    "# Connect to Azure ML Workspace\n",
    "ws = Workspace.from_config()\n",
    " \n",
    "# Attach to the shared Compute Cluster\n",
    "compute_name = \"model-training\"  # Change this to match your cluster\n",
    "compute_target = ComputeTarget(ws, compute_name)\n",
    " \n",
    "# Check if it's ready\n",
    "print(compute_target.status)"
   ]
  }
 ],
 "metadata": {
  "kernelspec": {
   "display_name": ".venv",
   "language": "python",
   "name": "python3"
  },
  "language_info": {
   "codemirror_mode": {
    "name": "ipython",
    "version": 3
   },
   "file_extension": ".py",
   "mimetype": "text/x-python",
   "name": "python",
   "nbconvert_exporter": "python",
   "pygments_lexer": "ipython3",
   "version": "3.12.6"
  }
 },
 "nbformat": 4,
 "nbformat_minor": 2
}
